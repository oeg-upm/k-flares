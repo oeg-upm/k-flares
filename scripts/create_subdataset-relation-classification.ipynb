{
 "cells": [
  {
   "cell_type": "code",
   "execution_count": 1,
   "metadata": {
    "pycharm": {
     "name": "#%%\n"
    }
   },
   "outputs": [],
   "source": [
    "# Copyright (c) Microsoft Corporation. \n",
    "# Licensed under the MIT license.\n",
    "\"\"\"\n",
    "The code for creating the dataset from T-REx for pre-training factual adapter on relation classification task.\n",
    "\n",
    "Input：cleaned T_Rex dataset. \"T_REx_example.json\"\n",
    "Output：examples: {tokens, obj_label(relation label), entity [subj_strat,subj_end]}\n",
    "\n",
    "- Whole dataset   \"T_REx_examples_{}_{}.json\".format(max_count,min_predicate_num)\n",
    "- Training split   data/train.json\n",
    "- Dev split    data/dev.json\n",
    "- labels    data/relations.json\n",
    "\n",
    "example：\n",
    "{'docid': 'Q3343462',\n",
    " 'token': ['Nora','Zaïdi','(','Nora','Mebrak','-','Zaïdi','),','born','on','July','6',',','1965','in','Bethoncourt','(','French','département','of',\n",
    "  'Doubs','),','daughter','of','an','Algerian','textile','toiler',',','is','a','French','activist','who','seated','in','the','European','Parliament','from',\n",
    "  '1989','to','1994','.'],\n",
    "  'relation': 'P31',\n",
    "  'subj_start': 20,\n",
    "  'subj_end': 20,\n",
    "  'obj_start': 18,\n",
    "  'obj_end': 18,\n",
    "  'subj_label': 'Q3361',\n",
    "  'obj_label': 'Q6465'}\n",
    "\"\"\"\n",
    "\n",
    "import json\n",
    "import matplotlib.pyplot as plt\n",
    "import os"
   ]
  },
  {
   "cell_type": "code",
   "execution_count": 2,
   "metadata": {
    "pycharm": {
     "name": "#%%\n"
    }
   },
   "outputs": [
    {
     "name": "stdout",
     "output_type": "stream",
     "text": [
      "652\n"
     ]
    }
   ],
   "source": [
    "def get_property2idx_dict(file=\"../data/cleaned_T_REx/T_REx_pred2ic.json\"):\n",
    "    with open(file, \"r\") as fin:\n",
    "        property2idx_dict = json.load(fin)\n",
    "    return property2idx_dict\n",
    "# property dictionary.\n",
    "property2idx_dict = get_property2idx_dict()\n",
    "idx2property_dict = {v: k for k, v in property2idx_dict.items()}\n",
    "\n",
    "print(len(property2idx_dict.keys()))"
   ]
  },
  {
   "cell_type": "code",
   "execution_count": null,
   "metadata": {
    "pycharm": {
     "name": "#%%\n"
    }
   },
   "outputs": [],
   "source": [
    "def load_examples(file):\n",
    "    with open(file, \"r\") as fin:\n",
    "        all_examples = json.load(fin)\n",
    "    print(\"total examples：\", len(all_examples))\n",
    "    return all_examples\n",
    "examples = load_examples(file=\"../data/cleaned_T_REx/T_REx_example.json\")\n"
   ]
  },
  {
   "cell_type": "code",
   "execution_count": null,
   "metadata": {
    "pycharm": {
     "name": "#%%\n"
    }
   },
   "outputs": [],
   "source": [
    "example = examples[0]\n",
    "print(example)\n",
    "subj_start_id = example[\"subj_start\"]\n",
    "subj_end_id = example[\"subj_end\"]\n",
    "example[\"token\"][subj_start_id:subj_end_id+1]"
   ]
  },
  {
   "cell_type": "code",
   "execution_count": null,
   "metadata": {
    "pycharm": {
     "name": "#%%\n"
    }
   },
   "outputs": [],
   "source": [
    "sub_examples = examples\n",
    "examples_fpre = {}\n",
    "for i, example in enumerate(sub_examples):\n",
    "    if example['relation'] in examples_fpre.keys():\n",
    "        temp = examples_fpre[example['relation']]\n",
    "        temp.append(example)\n",
    "        examples_fpre[example['relation']]= temp\n",
    "    else:\n",
    "        examples_fpre[example['relation']]= [example]\n"
   ]
  },
  {
   "cell_type": "code",
   "execution_count": null,
   "metadata": {
    "pycharm": {
     "name": "#%%\n"
    }
   },
   "outputs": [],
   "source": [
    "from collections import Counter\n",
    "count_list = []\n",
    "label_list = []\n",
    "total_predicates_uri = {}\n",
    "for key in examples_fpre.keys():\n",
    "    total_predicates_uri[key] = len(examples_fpre[key])"
   ]
  },
  {
   "cell_type": "code",
   "execution_count": null,
   "metadata": {
    "pycharm": {
     "name": "#%%\n"
    }
   },
   "outputs": [],
   "source": [
    "print(total_predicates_uri['P17'])\n",
    "print(total_predicates_uri['P131'])\n",
    "print(total_predicates_uri['P31'])\n",
    "print(total_predicates_uri['P47'])"
   ]
  },
  {
   "cell_type": "code",
   "execution_count": null,
   "metadata": {
    "pycharm": {
     "name": "#%%\n"
    }
   },
   "outputs": [],
   "source": [
    "# counting\n",
    "counter_predicates_uri = Counter(total_predicates_uri)\n",
    "sort_counter_predicates_uri = counter_predicates_uri.most_common(200)\n",
    "labels, values = zip(*sort_counter_predicates_uri)\n",
    "\n",
    "my_labels = list(labels)\n",
    "my_labels.reverse()\n",
    "my_values = list(values)\n",
    "my_values.reverse()\n",
    "\n",
    "fig, ax = plt.subplots(figsize=(10, 30),dpi=100)\n",
    "b = ax.barh(range(len(my_labels)), my_values,height=0.8, color='steelblue',alpha=0.7) \n",
    "for rect in b:   \n",
    "    w = rect.get_width()    \n",
    "    ax.text(w, rect.get_y()+rect.get_height()/2, '%d' % \n",
    "            int(w), ha='left', va='center')\n",
    "\n",
    "ax.set_yticks(range(len(my_labels)))\n",
    "ax.set_yticklabels(my_labels)\n",
    "\n",
    "plt.xticks(()) \n",
    "plt.title('Total Subset Predicates distribution', loc='center')\n",
    "plt.savefig('total_subset_predicates_dis.png')\n",
    "plt.show()\n",
    "\n"
   ]
  },
  {
   "cell_type": "code",
   "execution_count": null,
   "metadata": {
    "pycharm": {
     "name": "#%%\n"
    }
   },
   "outputs": [],
   "source": [
    "# del P31 (instance of)\n",
    "del examples_fpre['P31']"
   ]
  },
  {
   "cell_type": "code",
   "execution_count": null,
   "metadata": {
    "pycharm": {
     "name": "#%%\n"
    }
   },
   "outputs": [],
   "source": [
    "sub_examples = examples_fpre"
   ]
  },
  {
   "cell_type": "code",
   "execution_count": null,
   "metadata": {
    "pycharm": {
     "name": "#%%\n"
    }
   },
   "outputs": [],
   "source": [
    "# del some relations\n",
    "total_examples = 0\n",
    "min_predicate_num = 50\n",
    "count = 0\n",
    "discard_list = []\n",
    "for key in sub_examples.keys():\n",
    "    if len(sub_examples[key])<min_predicate_num:\n",
    "        discard_list.append(key)\n",
    "        count+=1\n",
    "    else:\n",
    "        total_examples+=len(sub_examples[key])\n",
    "for key in discard_list:\n",
    "    del sub_examples[key]\n",
    "    \n",
    "print('the number of relations which have examples less than {} is {} '.format(min_predicate_num,count))\n",
    "print('the remaining realtions:',len(sub_examples.keys())-count)\n",
    "print(\"total examples：\", total_examples)"
   ]
  },
  {
   "cell_type": "code",
   "execution_count": null,
   "metadata": {
    "pycharm": {
     "name": "#%%\n"
    }
   },
   "outputs": [],
   "source": [
    "counter_predicates_uri.most_common()"
   ]
  },
  {
   "cell_type": "code",
   "execution_count": null,
   "metadata": {
    "pycharm": {
     "name": "#%%\n"
    }
   },
   "outputs": [],
   "source": [
    "# counting\n",
    "from collections import Counter\n",
    "\n",
    "count_list = []\n",
    "label_list = []\n",
    "total_predicates_uri = {}\n",
    "for key in sub_examples.keys():\n",
    "    total_predicates_uri[key] = len(sub_examples[key])\n",
    "\n",
    "counter_predicates_uri = Counter(total_predicates_uri)\n",
    "sort_counter_predicates_uri = counter_predicates_uri.most_common(200)\n",
    "# labels, values = zip(*counter_relations.items())\n",
    "labels, values = zip(*sort_counter_predicates_uri)\n",
    "\n",
    "my_labels = list(labels)\n",
    "my_labels.reverse()\n",
    "my_values = list(values)\n",
    "my_values.reverse()\n",
    "\n",
    "fig, ax = plt.subplots(figsize=(10, 30),dpi=100)\n",
    "b = ax.barh(range(len(my_labels)), my_values,height=0.8, color='steelblue',alpha=0.7)\n",
    "for rect in b:   \n",
    "    w = rect.get_width()    \n",
    "    ax.text(w, rect.get_y()+rect.get_height()/2, '%d' % \n",
    "            int(w), ha='left', va='center')\n",
    "\n",
    "ax.set_yticks(range(len(my_labels)))\n",
    "ax.set_yticklabels(my_labels)\n",
    "\n",
    "plt.xticks(()) \n",
    "plt.title('Subset Predicates distribution', loc='center')\n",
    "plt.savefig('subset_predicates_dis.png')\n",
    "plt.show()\n"
   ]
  },
  {
   "cell_type": "code",
   "execution_count": null,
   "metadata": {
    "pycharm": {
     "name": "#%%\n"
    }
   },
   "outputs": [],
   "source": [
    "examples = []\n",
    "for key in sub_examples.keys():\n",
    "    examples.extend(sub_examples[key])\n",
    "print(len(examples))\n",
    "print(len(sub_examples.keys()))"
   ]
  },
  {
   "cell_type": "code",
   "execution_count": null,
   "metadata": {
    "pycharm": {
     "name": "#%%\n"
    }
   },
   "outputs": [],
   "source": [
    "pred2id = {}\n",
    "for example in examples:\n",
    "    if example[\"relation\"] in pred2id:\n",
    "        continue\n",
    "    else:\n",
    "        pred2id[example[\"relation\"]] = len(pred2id)"
   ]
  },
  {
   "cell_type": "code",
   "execution_count": null,
   "outputs": [],
   "source": [
    "import random\n",
    "random.shuffle(examples)\n",
    "train_examples = examples[:int(len(examples) * 0.9)]\n",
    "val_examples = examples[int(len(examples)*0.9):]"
   ],
   "metadata": {
    "collapsed": false,
    "pycharm": {
     "name": "#%%\n"
    }
   }
  },
  {
   "cell_type": "code",
   "execution_count": null,
   "metadata": {
    "pycharm": {
     "name": "#%%\n"
    }
   },
   "outputs": [],
   "source": [
    "# saving\n",
    "save_path = \"../data/trex-rc\"\n",
    "if not os.path.exists(save_path):\n",
    "    os.makedirs(save_path)\n",
    "    \n",
    "fout_pred2id = open(os.path.join(save_path,\"relations.json\"), \"w\")\n",
    "fout_train = open(os.path.join(save_path,\"train.json\"), \"w\")\n",
    "fout_val = open(os.path.join(save_path,\"dev.json\"), \"w\")\n",
    "\n",
    "json.dump(pred2id, fout_pred2id)\n",
    "json.dump(train_examples, fout_train)\n",
    "json.dump(val_examples, fout_val)\n",
    "\n",
    "fout_pred2id.close()\n",
    "fout_train.close()\n",
    "fout_val.close()"
   ]
  },
  {
   "cell_type": "code",
   "execution_count": null,
   "metadata": {
    "pycharm": {
     "name": "#%%\n"
    }
   },
   "outputs": [],
   "source": [
    "relations = load_examples(file=\"../data/trex-rc/relations.json\")"
   ]
  },
  {
   "cell_type": "code",
   "execution_count": null,
   "metadata": {
    "pycharm": {
     "name": "#%%\n"
    }
   },
   "outputs": [],
   "source": [
    "relations.keys()"
   ]
  }
 ],
 "metadata": {
  "kernelspec": {
   "display_name": "Python 3",
   "language": "python",
   "name": "python3"
  },
  "language_info": {
   "codemirror_mode": {
    "name": "ipython",
    "version": 3
   },
   "file_extension": ".py",
   "mimetype": "text/x-python",
   "name": "python",
   "nbconvert_exporter": "python",
   "pygments_lexer": "ipython3",
   "version": "3.6.12"
  },
  "pycharm": {
   "stem_cell": {
    "cell_type": "raw",
    "source": [],
    "metadata": {
     "collapsed": false
    }
   }
  }
 },
 "nbformat": 4,
 "nbformat_minor": 1
}